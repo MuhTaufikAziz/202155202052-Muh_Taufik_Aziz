{
  "nbformat": 4,
  "nbformat_minor": 0,
  "metadata": {
    "colab": {
      "provenance": [],
      "collapsed_sections": [
        "0mC5igRHRvxS",
        "Do4i9ma2NouE",
        "b1Jhza46QV9z",
        "Y92-ypRpWmA3"
      ],
      "toc_visible": true,
      "include_colab_link": true
    },
    "kernelspec": {
      "name": "python3",
      "display_name": "Python 3"
    },
    "language_info": {
      "name": "python"
    }
  },
  "cells": [
    {
      "cell_type": "markdown",
      "metadata": {
        "id": "view-in-github",
        "colab_type": "text"
      },
      "source": [
        "<a href=\"https://colab.research.google.com/github/MuhTaufikAziz/202155202052-Muh_Taufik_Aziz/blob/main/UTS_DATA_MINING.ipynb\" target=\"_parent\"><img src=\"https://colab.research.google.com/assets/colab-badge.svg\" alt=\"Open In Colab\"/></a>"
      ]
    },
    {
      "cell_type": "markdown",
      "source": [
        "## Import Library"
      ],
      "metadata": {
        "id": "0mC5igRHRvxS"
      }
    },
    {
      "cell_type": "code",
      "source": [
        "import pandas as pd\n",
        "import matplotlib.pyplot as plt"
      ],
      "metadata": {
        "id": "zt9dX7-rRu1G"
      },
      "execution_count": 8,
      "outputs": []
    },
    {
      "cell_type": "markdown",
      "source": [
        "## Preprocessing Data"
      ],
      "metadata": {
        "id": "AvgycRb0M-b9"
      }
    },
    {
      "cell_type": "code",
      "execution_count": 9,
      "metadata": {
        "colab": {
          "base_uri": "https://localhost:8080/",
          "height": 363
        },
        "id": "RGu3iqUzLhvz",
        "outputId": "b3ee1158-14e7-4400-fb20-6039c4972582"
      },
      "outputs": [
        {
          "output_type": "execute_result",
          "data": {
            "text/plain": [
              "  Bulan dan Tahun  Suhu Udara  Tekanan Udara  Kelembapan Udara  \\\n",
              "0      2019-01-01        27.9         1009.0              83.1   \n",
              "1      2019-02-01        27.6         1011.0              81.6   \n",
              "2      2019-03-01        27.8         1009.6              81.5   \n",
              "3      2019-04-01        27.9         1008.9              85.1   \n",
              "4      2019-05-01        27.8         1009.5              83.9   \n",
              "5      2019-06-01        26.7         1009.5              89.6   \n",
              "6      2019-07-01        25.6         1010.2              89.7   \n",
              "7      2019-08-01        25.9         1010.5              85.9   \n",
              "8      2019-09-01        26.2         1011.4              84.8   \n",
              "9      2019-10-01        26.8         1009.4              88.0   \n",
              "\n",
              "   Kecepatan Angin  Curah Hujan  \n",
              "0              4.5         97.1  \n",
              "1              5.0        134.7  \n",
              "2              4.6        118.1  \n",
              "3              4.2        333.9  \n",
              "4              4.1        193.7  \n",
              "5              4.9        362.0  \n",
              "6              5.2        298.0  \n",
              "7              6.2        141.0  \n",
              "8              6.5         76.7  \n",
              "9              4.5        360.0  "
            ],
            "text/html": [
              "\n",
              "  <div id=\"df-4920fff5-e411-46c9-a50b-218adcd6ac7b\">\n",
              "    <div class=\"colab-df-container\">\n",
              "      <div>\n",
              "<style scoped>\n",
              "    .dataframe tbody tr th:only-of-type {\n",
              "        vertical-align: middle;\n",
              "    }\n",
              "\n",
              "    .dataframe tbody tr th {\n",
              "        vertical-align: top;\n",
              "    }\n",
              "\n",
              "    .dataframe thead th {\n",
              "        text-align: right;\n",
              "    }\n",
              "</style>\n",
              "<table border=\"1\" class=\"dataframe\">\n",
              "  <thead>\n",
              "    <tr style=\"text-align: right;\">\n",
              "      <th></th>\n",
              "      <th>Bulan dan Tahun</th>\n",
              "      <th>Suhu Udara</th>\n",
              "      <th>Tekanan Udara</th>\n",
              "      <th>Kelembapan Udara</th>\n",
              "      <th>Kecepatan Angin</th>\n",
              "      <th>Curah Hujan</th>\n",
              "    </tr>\n",
              "  </thead>\n",
              "  <tbody>\n",
              "    <tr>\n",
              "      <th>0</th>\n",
              "      <td>2019-01-01</td>\n",
              "      <td>27.9</td>\n",
              "      <td>1009.0</td>\n",
              "      <td>83.1</td>\n",
              "      <td>4.5</td>\n",
              "      <td>97.1</td>\n",
              "    </tr>\n",
              "    <tr>\n",
              "      <th>1</th>\n",
              "      <td>2019-02-01</td>\n",
              "      <td>27.6</td>\n",
              "      <td>1011.0</td>\n",
              "      <td>81.6</td>\n",
              "      <td>5.0</td>\n",
              "      <td>134.7</td>\n",
              "    </tr>\n",
              "    <tr>\n",
              "      <th>2</th>\n",
              "      <td>2019-03-01</td>\n",
              "      <td>27.8</td>\n",
              "      <td>1009.6</td>\n",
              "      <td>81.5</td>\n",
              "      <td>4.6</td>\n",
              "      <td>118.1</td>\n",
              "    </tr>\n",
              "    <tr>\n",
              "      <th>3</th>\n",
              "      <td>2019-04-01</td>\n",
              "      <td>27.9</td>\n",
              "      <td>1008.9</td>\n",
              "      <td>85.1</td>\n",
              "      <td>4.2</td>\n",
              "      <td>333.9</td>\n",
              "    </tr>\n",
              "    <tr>\n",
              "      <th>4</th>\n",
              "      <td>2019-05-01</td>\n",
              "      <td>27.8</td>\n",
              "      <td>1009.5</td>\n",
              "      <td>83.9</td>\n",
              "      <td>4.1</td>\n",
              "      <td>193.7</td>\n",
              "    </tr>\n",
              "    <tr>\n",
              "      <th>5</th>\n",
              "      <td>2019-06-01</td>\n",
              "      <td>26.7</td>\n",
              "      <td>1009.5</td>\n",
              "      <td>89.6</td>\n",
              "      <td>4.9</td>\n",
              "      <td>362.0</td>\n",
              "    </tr>\n",
              "    <tr>\n",
              "      <th>6</th>\n",
              "      <td>2019-07-01</td>\n",
              "      <td>25.6</td>\n",
              "      <td>1010.2</td>\n",
              "      <td>89.7</td>\n",
              "      <td>5.2</td>\n",
              "      <td>298.0</td>\n",
              "    </tr>\n",
              "    <tr>\n",
              "      <th>7</th>\n",
              "      <td>2019-08-01</td>\n",
              "      <td>25.9</td>\n",
              "      <td>1010.5</td>\n",
              "      <td>85.9</td>\n",
              "      <td>6.2</td>\n",
              "      <td>141.0</td>\n",
              "    </tr>\n",
              "    <tr>\n",
              "      <th>8</th>\n",
              "      <td>2019-09-01</td>\n",
              "      <td>26.2</td>\n",
              "      <td>1011.4</td>\n",
              "      <td>84.8</td>\n",
              "      <td>6.5</td>\n",
              "      <td>76.7</td>\n",
              "    </tr>\n",
              "    <tr>\n",
              "      <th>9</th>\n",
              "      <td>2019-10-01</td>\n",
              "      <td>26.8</td>\n",
              "      <td>1009.4</td>\n",
              "      <td>88.0</td>\n",
              "      <td>4.5</td>\n",
              "      <td>360.0</td>\n",
              "    </tr>\n",
              "  </tbody>\n",
              "</table>\n",
              "</div>\n",
              "      <button class=\"colab-df-convert\" onclick=\"convertToInteractive('df-4920fff5-e411-46c9-a50b-218adcd6ac7b')\"\n",
              "              title=\"Convert this dataframe to an interactive table.\"\n",
              "              style=\"display:none;\">\n",
              "        \n",
              "  <svg xmlns=\"http://www.w3.org/2000/svg\" height=\"24px\"viewBox=\"0 0 24 24\"\n",
              "       width=\"24px\">\n",
              "    <path d=\"M0 0h24v24H0V0z\" fill=\"none\"/>\n",
              "    <path d=\"M18.56 5.44l.94 2.06.94-2.06 2.06-.94-2.06-.94-.94-2.06-.94 2.06-2.06.94zm-11 1L8.5 8.5l.94-2.06 2.06-.94-2.06-.94L8.5 2.5l-.94 2.06-2.06.94zm10 10l.94 2.06.94-2.06 2.06-.94-2.06-.94-.94-2.06-.94 2.06-2.06.94z\"/><path d=\"M17.41 7.96l-1.37-1.37c-.4-.4-.92-.59-1.43-.59-.52 0-1.04.2-1.43.59L10.3 9.45l-7.72 7.72c-.78.78-.78 2.05 0 2.83L4 21.41c.39.39.9.59 1.41.59.51 0 1.02-.2 1.41-.59l7.78-7.78 2.81-2.81c.8-.78.8-2.07 0-2.86zM5.41 20L4 18.59l7.72-7.72 1.47 1.35L5.41 20z\"/>\n",
              "  </svg>\n",
              "      </button>\n",
              "      \n",
              "  <style>\n",
              "    .colab-df-container {\n",
              "      display:flex;\n",
              "      flex-wrap:wrap;\n",
              "      gap: 12px;\n",
              "    }\n",
              "\n",
              "    .colab-df-convert {\n",
              "      background-color: #E8F0FE;\n",
              "      border: none;\n",
              "      border-radius: 50%;\n",
              "      cursor: pointer;\n",
              "      display: none;\n",
              "      fill: #1967D2;\n",
              "      height: 32px;\n",
              "      padding: 0 0 0 0;\n",
              "      width: 32px;\n",
              "    }\n",
              "\n",
              "    .colab-df-convert:hover {\n",
              "      background-color: #E2EBFA;\n",
              "      box-shadow: 0px 1px 2px rgba(60, 64, 67, 0.3), 0px 1px 3px 1px rgba(60, 64, 67, 0.15);\n",
              "      fill: #174EA6;\n",
              "    }\n",
              "\n",
              "    [theme=dark] .colab-df-convert {\n",
              "      background-color: #3B4455;\n",
              "      fill: #D2E3FC;\n",
              "    }\n",
              "\n",
              "    [theme=dark] .colab-df-convert:hover {\n",
              "      background-color: #434B5C;\n",
              "      box-shadow: 0px 1px 3px 1px rgba(0, 0, 0, 0.15);\n",
              "      filter: drop-shadow(0px 1px 2px rgba(0, 0, 0, 0.3));\n",
              "      fill: #FFFFFF;\n",
              "    }\n",
              "  </style>\n",
              "\n",
              "      <script>\n",
              "        const buttonEl =\n",
              "          document.querySelector('#df-4920fff5-e411-46c9-a50b-218adcd6ac7b button.colab-df-convert');\n",
              "        buttonEl.style.display =\n",
              "          google.colab.kernel.accessAllowed ? 'block' : 'none';\n",
              "\n",
              "        async function convertToInteractive(key) {\n",
              "          const element = document.querySelector('#df-4920fff5-e411-46c9-a50b-218adcd6ac7b');\n",
              "          const dataTable =\n",
              "            await google.colab.kernel.invokeFunction('convertToInteractive',\n",
              "                                                     [key], {});\n",
              "          if (!dataTable) return;\n",
              "\n",
              "          const docLinkHtml = 'Like what you see? Visit the ' +\n",
              "            '<a target=\"_blank\" href=https://colab.research.google.com/notebooks/data_table.ipynb>data table notebook</a>'\n",
              "            + ' to learn more about interactive tables.';\n",
              "          element.innerHTML = '';\n",
              "          dataTable['output_type'] = 'display_data';\n",
              "          await google.colab.output.renderOutput(dataTable, element);\n",
              "          const docLink = document.createElement('div');\n",
              "          docLink.innerHTML = docLinkHtml;\n",
              "          element.appendChild(docLink);\n",
              "        }\n",
              "      </script>\n",
              "    </div>\n",
              "  </div>\n",
              "  "
            ]
          },
          "metadata": {},
          "execution_count": 9
        }
      ],
      "source": [
        "# Load dataset dari file excel (xlsx)\n",
        "data = pd.read_excel('/content/DatasetCuaca_convert.xlsx')\n",
        "data.head(10)"
      ]
    },
    {
      "cell_type": "code",
      "source": [
        "# Menghapus kolom yang tidak digunakan\n",
        "data= data.drop(['Bulan dan Tahun'], axis=1)\n",
        "data.head(10)"
      ],
      "metadata": {
        "colab": {
          "base_uri": "https://localhost:8080/",
          "height": 363
        },
        "id": "SnUZBWvxMqNV",
        "outputId": "7f9019aa-4fce-40ef-d40f-5737fc51e3ca"
      },
      "execution_count": 10,
      "outputs": [
        {
          "output_type": "execute_result",
          "data": {
            "text/plain": [
              "   Suhu Udara  Tekanan Udara  Kelembapan Udara  Kecepatan Angin  Curah Hujan\n",
              "0        27.9         1009.0              83.1              4.5         97.1\n",
              "1        27.6         1011.0              81.6              5.0        134.7\n",
              "2        27.8         1009.6              81.5              4.6        118.1\n",
              "3        27.9         1008.9              85.1              4.2        333.9\n",
              "4        27.8         1009.5              83.9              4.1        193.7\n",
              "5        26.7         1009.5              89.6              4.9        362.0\n",
              "6        25.6         1010.2              89.7              5.2        298.0\n",
              "7        25.9         1010.5              85.9              6.2        141.0\n",
              "8        26.2         1011.4              84.8              6.5         76.7\n",
              "9        26.8         1009.4              88.0              4.5        360.0"
            ],
            "text/html": [
              "\n",
              "  <div id=\"df-047625a8-e535-4ef0-bd9b-b4ffc3706d19\">\n",
              "    <div class=\"colab-df-container\">\n",
              "      <div>\n",
              "<style scoped>\n",
              "    .dataframe tbody tr th:only-of-type {\n",
              "        vertical-align: middle;\n",
              "    }\n",
              "\n",
              "    .dataframe tbody tr th {\n",
              "        vertical-align: top;\n",
              "    }\n",
              "\n",
              "    .dataframe thead th {\n",
              "        text-align: right;\n",
              "    }\n",
              "</style>\n",
              "<table border=\"1\" class=\"dataframe\">\n",
              "  <thead>\n",
              "    <tr style=\"text-align: right;\">\n",
              "      <th></th>\n",
              "      <th>Suhu Udara</th>\n",
              "      <th>Tekanan Udara</th>\n",
              "      <th>Kelembapan Udara</th>\n",
              "      <th>Kecepatan Angin</th>\n",
              "      <th>Curah Hujan</th>\n",
              "    </tr>\n",
              "  </thead>\n",
              "  <tbody>\n",
              "    <tr>\n",
              "      <th>0</th>\n",
              "      <td>27.9</td>\n",
              "      <td>1009.0</td>\n",
              "      <td>83.1</td>\n",
              "      <td>4.5</td>\n",
              "      <td>97.1</td>\n",
              "    </tr>\n",
              "    <tr>\n",
              "      <th>1</th>\n",
              "      <td>27.6</td>\n",
              "      <td>1011.0</td>\n",
              "      <td>81.6</td>\n",
              "      <td>5.0</td>\n",
              "      <td>134.7</td>\n",
              "    </tr>\n",
              "    <tr>\n",
              "      <th>2</th>\n",
              "      <td>27.8</td>\n",
              "      <td>1009.6</td>\n",
              "      <td>81.5</td>\n",
              "      <td>4.6</td>\n",
              "      <td>118.1</td>\n",
              "    </tr>\n",
              "    <tr>\n",
              "      <th>3</th>\n",
              "      <td>27.9</td>\n",
              "      <td>1008.9</td>\n",
              "      <td>85.1</td>\n",
              "      <td>4.2</td>\n",
              "      <td>333.9</td>\n",
              "    </tr>\n",
              "    <tr>\n",
              "      <th>4</th>\n",
              "      <td>27.8</td>\n",
              "      <td>1009.5</td>\n",
              "      <td>83.9</td>\n",
              "      <td>4.1</td>\n",
              "      <td>193.7</td>\n",
              "    </tr>\n",
              "    <tr>\n",
              "      <th>5</th>\n",
              "      <td>26.7</td>\n",
              "      <td>1009.5</td>\n",
              "      <td>89.6</td>\n",
              "      <td>4.9</td>\n",
              "      <td>362.0</td>\n",
              "    </tr>\n",
              "    <tr>\n",
              "      <th>6</th>\n",
              "      <td>25.6</td>\n",
              "      <td>1010.2</td>\n",
              "      <td>89.7</td>\n",
              "      <td>5.2</td>\n",
              "      <td>298.0</td>\n",
              "    </tr>\n",
              "    <tr>\n",
              "      <th>7</th>\n",
              "      <td>25.9</td>\n",
              "      <td>1010.5</td>\n",
              "      <td>85.9</td>\n",
              "      <td>6.2</td>\n",
              "      <td>141.0</td>\n",
              "    </tr>\n",
              "    <tr>\n",
              "      <th>8</th>\n",
              "      <td>26.2</td>\n",
              "      <td>1011.4</td>\n",
              "      <td>84.8</td>\n",
              "      <td>6.5</td>\n",
              "      <td>76.7</td>\n",
              "    </tr>\n",
              "    <tr>\n",
              "      <th>9</th>\n",
              "      <td>26.8</td>\n",
              "      <td>1009.4</td>\n",
              "      <td>88.0</td>\n",
              "      <td>4.5</td>\n",
              "      <td>360.0</td>\n",
              "    </tr>\n",
              "  </tbody>\n",
              "</table>\n",
              "</div>\n",
              "      <button class=\"colab-df-convert\" onclick=\"convertToInteractive('df-047625a8-e535-4ef0-bd9b-b4ffc3706d19')\"\n",
              "              title=\"Convert this dataframe to an interactive table.\"\n",
              "              style=\"display:none;\">\n",
              "        \n",
              "  <svg xmlns=\"http://www.w3.org/2000/svg\" height=\"24px\"viewBox=\"0 0 24 24\"\n",
              "       width=\"24px\">\n",
              "    <path d=\"M0 0h24v24H0V0z\" fill=\"none\"/>\n",
              "    <path d=\"M18.56 5.44l.94 2.06.94-2.06 2.06-.94-2.06-.94-.94-2.06-.94 2.06-2.06.94zm-11 1L8.5 8.5l.94-2.06 2.06-.94-2.06-.94L8.5 2.5l-.94 2.06-2.06.94zm10 10l.94 2.06.94-2.06 2.06-.94-2.06-.94-.94-2.06-.94 2.06-2.06.94z\"/><path d=\"M17.41 7.96l-1.37-1.37c-.4-.4-.92-.59-1.43-.59-.52 0-1.04.2-1.43.59L10.3 9.45l-7.72 7.72c-.78.78-.78 2.05 0 2.83L4 21.41c.39.39.9.59 1.41.59.51 0 1.02-.2 1.41-.59l7.78-7.78 2.81-2.81c.8-.78.8-2.07 0-2.86zM5.41 20L4 18.59l7.72-7.72 1.47 1.35L5.41 20z\"/>\n",
              "  </svg>\n",
              "      </button>\n",
              "      \n",
              "  <style>\n",
              "    .colab-df-container {\n",
              "      display:flex;\n",
              "      flex-wrap:wrap;\n",
              "      gap: 12px;\n",
              "    }\n",
              "\n",
              "    .colab-df-convert {\n",
              "      background-color: #E8F0FE;\n",
              "      border: none;\n",
              "      border-radius: 50%;\n",
              "      cursor: pointer;\n",
              "      display: none;\n",
              "      fill: #1967D2;\n",
              "      height: 32px;\n",
              "      padding: 0 0 0 0;\n",
              "      width: 32px;\n",
              "    }\n",
              "\n",
              "    .colab-df-convert:hover {\n",
              "      background-color: #E2EBFA;\n",
              "      box-shadow: 0px 1px 2px rgba(60, 64, 67, 0.3), 0px 1px 3px 1px rgba(60, 64, 67, 0.15);\n",
              "      fill: #174EA6;\n",
              "    }\n",
              "\n",
              "    [theme=dark] .colab-df-convert {\n",
              "      background-color: #3B4455;\n",
              "      fill: #D2E3FC;\n",
              "    }\n",
              "\n",
              "    [theme=dark] .colab-df-convert:hover {\n",
              "      background-color: #434B5C;\n",
              "      box-shadow: 0px 1px 3px 1px rgba(0, 0, 0, 0.15);\n",
              "      filter: drop-shadow(0px 1px 2px rgba(0, 0, 0, 0.3));\n",
              "      fill: #FFFFFF;\n",
              "    }\n",
              "  </style>\n",
              "\n",
              "      <script>\n",
              "        const buttonEl =\n",
              "          document.querySelector('#df-047625a8-e535-4ef0-bd9b-b4ffc3706d19 button.colab-df-convert');\n",
              "        buttonEl.style.display =\n",
              "          google.colab.kernel.accessAllowed ? 'block' : 'none';\n",
              "\n",
              "        async function convertToInteractive(key) {\n",
              "          const element = document.querySelector('#df-047625a8-e535-4ef0-bd9b-b4ffc3706d19');\n",
              "          const dataTable =\n",
              "            await google.colab.kernel.invokeFunction('convertToInteractive',\n",
              "                                                     [key], {});\n",
              "          if (!dataTable) return;\n",
              "\n",
              "          const docLinkHtml = 'Like what you see? Visit the ' +\n",
              "            '<a target=\"_blank\" href=https://colab.research.google.com/notebooks/data_table.ipynb>data table notebook</a>'\n",
              "            + ' to learn more about interactive tables.';\n",
              "          element.innerHTML = '';\n",
              "          dataTable['output_type'] = 'display_data';\n",
              "          await google.colab.output.renderOutput(dataTable, element);\n",
              "          const docLink = document.createElement('div');\n",
              "          docLink.innerHTML = docLinkHtml;\n",
              "          element.appendChild(docLink);\n",
              "        }\n",
              "      </script>\n",
              "    </div>\n",
              "  </div>\n",
              "  "
            ]
          },
          "metadata": {},
          "execution_count": 10
        }
      ]
    },
    {
      "cell_type": "code",
      "source": [
        "# menyimpan dataset dalam format CSV\n",
        "data.to_csv('DATASET CONVERT_CSV.csv', index=False)"
      ],
      "metadata": {
        "id": "0U8isfEHNFqm"
      },
      "execution_count": 11,
      "outputs": []
    },
    {
      "cell_type": "markdown",
      "source": [
        "## Mean Median Modus dari Suhu Udara"
      ],
      "metadata": {
        "id": "Do4i9ma2NouE"
      }
    },
    {
      "cell_type": "code",
      "source": [
        "# Mengambil kolom \"Suhu Udara\"\n",
        "suhu_udara = data['Suhu Udara']"
      ],
      "metadata": {
        "id": "LUZQNZGlN9DD"
      },
      "execution_count": 12,
      "outputs": []
    },
    {
      "cell_type": "code",
      "source": [
        "# Menghitung Mean (Rata-rata)\n",
        "mean_suhu_udara = suhu_udara.mean()\n",
        "print(\"Mean (Rata-rata) Suhu Udara:\", mean_suhu_udara)"
      ],
      "metadata": {
        "colab": {
          "base_uri": "https://localhost:8080/"
        },
        "id": "Xvu-7OIsP76Z",
        "outputId": "ef07cba6-4140-4f66-a358-7e61ce9f7471"
      },
      "execution_count": 13,
      "outputs": [
        {
          "output_type": "stream",
          "name": "stdout",
          "text": [
            "Mean (Rata-rata) Suhu Udara: 27.16111111111111\n"
          ]
        }
      ]
    },
    {
      "cell_type": "code",
      "source": [
        "# Menghitung Median\n",
        "median_suhu_udara = suhu_udara.median()\n",
        "print(\"Median Suhu Udara:\", median_suhu_udara)"
      ],
      "metadata": {
        "colab": {
          "base_uri": "https://localhost:8080/"
        },
        "id": "b9QQ7EHjQD4N",
        "outputId": "94152fdf-f509-4fd3-ed5d-d4e5c3368340"
      },
      "execution_count": 16,
      "outputs": [
        {
          "output_type": "stream",
          "name": "stdout",
          "text": [
            "Median Suhu Udara: 27.2\n"
          ]
        }
      ]
    },
    {
      "cell_type": "code",
      "source": [
        "# Menghitung Modus\n",
        "modus_suhu_udara = suhu_udara.mode()\n",
        "print(\"Modus Suhu Udara:\", modus_suhu_udara)"
      ],
      "metadata": {
        "colab": {
          "base_uri": "https://localhost:8080/"
        },
        "id": "VZ2meImeQGeI",
        "outputId": "ae3dcf8a-349c-4c38-b75a-9f432fbc96c7"
      },
      "execution_count": 15,
      "outputs": [
        {
          "output_type": "stream",
          "name": "stdout",
          "text": [
            "Modus Suhu Udara: 0    26.6\n",
            "1    27.2\n",
            "2    27.4\n",
            "3    27.8\n",
            "4    28.0\n",
            "Name: Suhu Udara, dtype: float64\n"
          ]
        }
      ]
    },
    {
      "cell_type": "markdown",
      "source": [
        "## Mean Median Modus dari Curah Hujan"
      ],
      "metadata": {
        "id": "b1Jhza46QV9z"
      }
    },
    {
      "cell_type": "code",
      "source": [
        "# Mengambil kolom \"Curah Hujan\"\n",
        "curah_hujan = data['Curah Hujan']"
      ],
      "metadata": {
        "id": "nRrCkmBCQVZf"
      },
      "execution_count": 17,
      "outputs": []
    },
    {
      "cell_type": "code",
      "source": [
        "# Menghitung Mean (Rata-rata)\n",
        "mean_curah_hujan = curah_hujan.mean()\n",
        "print(\"Mean (Rata-rata) Curah Hujan:\", mean_curah_hujan)"
      ],
      "metadata": {
        "colab": {
          "base_uri": "https://localhost:8080/"
        },
        "id": "RfhLbZioQlgE",
        "outputId": "4f50b3e9-cc0e-443c-d56a-454cf96cff11"
      },
      "execution_count": 18,
      "outputs": [
        {
          "output_type": "stream",
          "name": "stdout",
          "text": [
            "Mean (Rata-rata) Curah Hujan: 273.2527777777778\n"
          ]
        }
      ]
    },
    {
      "cell_type": "code",
      "source": [
        "# Menghitung Median\n",
        "median_curah_hujan = curah_hujan.median()\n",
        "print(\"Median Curah Hujan:\", median_curah_hujan)"
      ],
      "metadata": {
        "colab": {
          "base_uri": "https://localhost:8080/"
        },
        "id": "cGgoXclAjQId",
        "outputId": "a93b48e8-258d-459e-af9e-a312dae47e33"
      },
      "execution_count": 19,
      "outputs": [
        {
          "output_type": "stream",
          "name": "stdout",
          "text": [
            "Median Curah Hujan: 239.6\n"
          ]
        }
      ]
    },
    {
      "cell_type": "code",
      "source": [
        "# Menghitung Modus\n",
        "modus_curah_hujan = curah_hujan.mode()\n",
        "print(\"Modus Suhu Curah Hujan\", modus_curah_hujan)"
      ],
      "metadata": {
        "colab": {
          "base_uri": "https://localhost:8080/"
        },
        "id": "xnsTzgQuQvwt",
        "outputId": "b99841d8-2478-4601-8e9c-c7f999eea929"
      },
      "execution_count": 20,
      "outputs": [
        {
          "output_type": "stream",
          "name": "stdout",
          "text": [
            "Modus Suhu Curah Hujan 0      25.9\n",
            "1      35.6\n",
            "2      38.7\n",
            "3      76.7\n",
            "4      81.7\n",
            "5      97.1\n",
            "6     118.1\n",
            "7     121.0\n",
            "8     134.7\n",
            "9     141.0\n",
            "10    147.0\n",
            "11    165.8\n",
            "12    175.0\n",
            "13    180.0\n",
            "14    193.7\n",
            "15    223.5\n",
            "16    233.0\n",
            "17    236.0\n",
            "18    243.2\n",
            "19    283.1\n",
            "20    287.0\n",
            "21    298.0\n",
            "22    302.0\n",
            "23    330.0\n",
            "24    333.9\n",
            "25    360.0\n",
            "26    362.0\n",
            "27    377.0\n",
            "28    391.5\n",
            "29    394.4\n",
            "30    478.0\n",
            "31    511.0\n",
            "32    516.7\n",
            "33    519.0\n",
            "34    678.2\n",
            "35    747.6\n",
            "Name: Curah Hujan, dtype: float64\n"
          ]
        }
      ]
    },
    {
      "cell_type": "code",
      "source": [
        "# Mengambil kolom \"Kelembapan Udara\" dan \"Curah Hujan\"\n",
        "kelembapan_udara = data['Kelembapan Udara']\n",
        "curah_hujan = data['Curah Hujan']"
      ],
      "metadata": {
        "id": "6i78am6TREC5"
      },
      "execution_count": 21,
      "outputs": []
    },
    {
      "cell_type": "markdown",
      "source": [
        "### Boxplot Kelembapan Udara dan Curah Hujan"
      ],
      "metadata": {
        "id": "CjCDuP9WSPJ-"
      }
    },
    {
      "cell_type": "code",
      "source": [
        "# Boxplot untuk Kelembapan Udara\n",
        "plt.figure(figsize=(6, 4))\n",
        "plt.boxplot(kelembapan_udara)\n",
        "plt.title('Boxplot Kelembapan Udara')\n",
        "plt.ylabel('Kelembapan Udara')\n",
        "plt.show()"
      ],
      "metadata": {
        "colab": {
          "base_uri": "https://localhost:8080/",
          "height": 391
        },
        "id": "_cPTRP0FRhbZ",
        "outputId": "5637452e-c6fd-4b7a-d24a-07fa949efe41"
      },
      "execution_count": 22,
      "outputs": [
        {
          "output_type": "display_data",
          "data": {
            "text/plain": [
              "<Figure size 600x400 with 1 Axes>"
            ],
            "image/png": "[encoded data removed]"
          },
          "metadata": {}
        }
      ]
    },
    {
      "cell_type": "code",
      "source": [
        "# Boxplot untuk Curah Hujan\n",
        "plt.figure(figsize=(6, 4))\n",
        "plt.boxplot(curah_hujan)\n",
        "plt.title('Boxplot Curah Hujan')\n",
        "plt.ylabel('Curah Hujan')\n",
        "plt.show()"
      ],
      "metadata": {
        "colab": {
          "base_uri": "https://localhost:8080/",
          "height": 391
        },
        "id": "VbKMeZEeR_r9",
        "outputId": "e087529c-6504-4a54-b756-a21d04b70016"
      },
      "execution_count": 23,
      "outputs": [
        {
          "output_type": "display_data",
          "data": {
            "text/plain": [
              "<Figure size 600x400 with 1 Axes>"
            ],
            "image/png": "[encoded data removed]"
          },
          "metadata": {}
        }
      ]
    },
    {
      "cell_type": "markdown",
      "source": [
        "### Scatterplot Kelembapan Udara dan Curah Hujan"
      ],
      "metadata": {
        "id": "gVzAUIx4SZqL"
      }
    },
    {
      "cell_type": "code",
      "source": [
        "# Menghasilkan indeks untuk sumbu x\n",
        "indeks = range(len(kelembapan_udara))\n",
        "\n",
        "# Scatterplot untuk Kelembapan Udara\n",
        "plt.figure(figsize=(8, 6))\n",
        "plt.scatter(indeks, kelembapan_udara)\n",
        "plt.title('Scatterplot Kelembapan Udara')\n",
        "plt.xlabel('Indeks')\n",
        "plt.ylabel('Kelembapan Udara')\n",
        "plt.show()"
      ],
      "metadata": {
        "colab": {
          "base_uri": "https://localhost:8080/",
          "height": 564
        },
        "id": "nIDt-l1PSY8-",
        "outputId": "eecd9fc0-b969-49bb-c9eb-ae12e201c84f"
      },
      "execution_count": 24,
      "outputs": [
        {
          "output_type": "display_data",
          "data": {
            "text/plain": [
              "<Figure size 800x600 with 1 Axes>"
            ],
            "image/png": "[encoded data removed]"
          },
          "metadata": {}
        }
      ]
    },
    {
      "cell_type": "code",
      "source": [
        "# Menghasilkan indeks untuk sumbu x\n",
        "indeks = range(len(curah_hujan))\n",
        "\n",
        "# Scatterplot untuk Kelembapan Udara\n",
        "plt.figure(figsize=(8, 6))\n",
        "plt.scatter(indeks, curah_hujan)\n",
        "plt.title('Scatterplot Curah Hujan')\n",
        "plt.xlabel('Indeks')\n",
        "plt.ylabel('Curah Hujan')\n",
        "plt.show()"
      ],
      "metadata": {
        "colab": {
          "base_uri": "https://localhost:8080/",
          "height": 564
        },
        "id": "RNf2_uDkTAI5",
        "outputId": "f19594ee-493a-4990-a4ac-402d6276dae5"
      },
      "execution_count": 25,
      "outputs": [
        {
          "output_type": "display_data",
          "data": {
            "text/plain": [
              "<Figure size 800x600 with 1 Axes>"
            ],
            "image/png": "[encoded data removed]"
          },
          "metadata": {}
        }
      ]
    },
    {
      "cell_type": "markdown",
      "source": [
        "## Standar Deviasi pada data Curah Hujan dan Suhu menggunakan Histogram"
      ],
      "metadata": {
        "id": "moxWc6roUciz"
      }
    },
    {
      "cell_type": "code",
      "source": [
        "# Menghitung standar deviasi\n",
        "std_curah_hujan = curah_hujan.std()\n",
        "std_suhu_udara = suhu_udara.std()"
      ],
      "metadata": {
        "id": "ahtmq996UEGd"
      },
      "execution_count": 26,
      "outputs": []
    },
    {
      "cell_type": "code",
      "source": [
        "# Menggambar Histogram untuk Curah Hujan\n",
        "plt.figure(figsize=(8, 6))\n",
        "plt.hist(curah_hujan, bins=10, alpha=0.5)\n",
        "plt.axvline(curah_hujan.mean(), color='red', linestyle='dashed', linewidth=2, label='Mean')\n",
        "plt.axvline(curah_hujan.mean() + std_curah_hujan, color='orange', linestyle='dashed', linewidth=2, label='Mean + Std')\n",
        "plt.axvline(curah_hujan.mean() - std_curah_hujan, color='orange', linestyle='dashed', linewidth=2, label='Mean - Std')\n",
        "plt.title('Histogram Curah Hujan')\n",
        "plt.xlabel('Curah Hujan')\n",
        "plt.ylabel('Frekuensi')\n",
        "plt.legend()\n",
        "plt.show()"
      ],
      "metadata": {
        "colab": {
          "base_uri": "https://localhost:8080/",
          "height": 564
        },
        "id": "Ulorjcw3UiTn",
        "outputId": "d81756ce-fb6a-4b9f-c291-a523975e0401"
      },
      "execution_count": 27,
      "outputs": [
        {
          "output_type": "display_data",
          "data": {
            "text/plain": [
              "<Figure size 800x600 with 1 Axes>"
            ],
            "image/png": "[encoded data removed]"
          },
          "metadata": {}
        }
      ]
    },
    {
      "cell_type": "code",
      "source": [
        "# Menggambar Histogram untuk Suhu Udara\n",
        "plt.figure(figsize=(8, 6))\n",
        "plt.hist(suhu_udara, bins=10, alpha=0.5)\n",
        "plt.axvline(suhu_udara.mean(), color='red', linestyle='dashed', linewidth=2, label='Mean')\n",
        "plt.axvline(suhu_udara.mean() + std_suhu_udara, color='orange', linestyle='dashed', linewidth=2, label='Mean + Std')\n",
        "plt.axvline(suhu_udara.mean() - std_suhu_udara, color='orange', linestyle='dashed', linewidth=2, label='Mean - Std')\n",
        "plt.title('Histogram Suhu Udara')\n",
        "plt.xlabel('Suhu Udara')\n",
        "plt.ylabel('Frekuensi')\n",
        "plt.legend()\n",
        "plt.show()"
      ],
      "metadata": {
        "colab": {
          "base_uri": "https://localhost:8080/",
          "height": 564
        },
        "id": "pat08FI5UneO",
        "outputId": "3cc52f91-c012-4d6a-f602-f113125842c5"
      },
      "execution_count": 28,
      "outputs": [
        {
          "output_type": "display_data",
          "data": {
            "text/plain": [
              "<Figure size 800x600 with 1 Axes>"
            ],
            "image/png": "[encoded data removed]"
          },
          "metadata": {}
        }
      ]
    },
    {
      "cell_type": "markdown",
      "source": [
        "## Report Non Graphical untuk untuk mengidentifikasi Pola dan menemukan Anomali Data"
      ],
      "metadata": {
        "id": "Y92-ypRpWmA3"
      }
    },
    {
      "cell_type": "code",
      "source": [
        "# Statistik Deskriptif\n",
        "kelembapan_udara_stats = data['Kelembapan Udara'].describe()\n",
        "curah_hujan_stats = data['Curah Hujan'].describe()"
      ],
      "metadata": {
        "id": "UsLap_kjVcfV"
      },
      "execution_count": 29,
      "outputs": []
    },
    {
      "cell_type": "code",
      "source": [
        "# Pola dan Tren\n",
        "kelembapan_udara_tren = \"Kelembapan udara cenderung stabil dengan variasi kecil sepanjang data.\"\n",
        "curah_hujan_tren = \"Curah hujan memiliki variasi yang signifikan, dengan beberapa puncak tinggi dalam data.\""
      ],
      "metadata": {
        "id": "pIrH3mdOW9ls"
      },
      "execution_count": 30,
      "outputs": []
    },
    {
      "cell_type": "code",
      "source": [
        "# Anomali Data\n",
        "kelembapan_udara_anomali = \"Tidak ada anomali yang mencurigakan dalam data kelembapan udara berdasarkan statistik deskriptif.\"\n",
        "curah_hujan_anomali = \"Anomali curah hujan yang tinggi: 333.9, 362.0. Anomali curah hujan yang rendah: 42.6.\""
      ],
      "metadata": {
        "id": "VGRwPx5FXUJ_"
      },
      "execution_count": 31,
      "outputs": []
    },
    {
      "cell_type": "code",
      "source": [
        "# Menampilkan laporan EDA Kelembapan Udara\n",
        "print(\"Laporan EDA - Kelembaban Udara\")\n",
        "print(\"---------------------------------\")\n",
        "print(\"Statistik Deskriptif:\")\n",
        "print(kelembapan_udara_stats)\n",
        "print()\n",
        "print(\"Pola dan Tren:\")\n",
        "print(kelembapan_udara_tren)\n",
        "print()\n",
        "print(\"Anomali Data:\")\n",
        "print(kelembapan_udara_anomali)\n",
        "print()"
      ],
      "metadata": {
        "colab": {
          "base_uri": "https://localhost:8080/"
        },
        "id": "UK4Fv7bWXZtV",
        "outputId": "3123f610-1f2f-4820-d166-49093a703447"
      },
      "execution_count": 32,
      "outputs": [
        {
          "output_type": "stream",
          "name": "stdout",
          "text": [
            "Laporan EDA - Kelembaban Udara\n",
            "---------------------------------\n",
            "Statistik Deskriptif:\n",
            "count    36.000000\n",
            "mean     85.294444\n",
            "std       3.106670\n",
            "min      78.000000\n",
            "25%      83.700000\n",
            "50%      85.050000\n",
            "75%      88.000000\n",
            "max      90.000000\n",
            "Name: Kelembapan Udara, dtype: float64\n",
            "\n",
            "Pola dan Tren:\n",
            "Kelembapan udara cenderung stabil dengan variasi kecil sepanjang data.\n",
            "\n",
            "Anomali Data:\n",
            "Tidak ada anomali yang mencurigakan dalam data kelembapan udara berdasarkan statistik deskriptif.\n",
            "\n"
          ]
        }
      ]
    },
    {
      "cell_type": "code",
      "source": [
        "# Menampilkan laporan EDA Curah Hujan\n",
        "print(\"Laporan EDA - Curah Hujan\")\n",
        "print(\"---------------------------------\")\n",
        "print(\"Statistik Deskriptif:\")\n",
        "print(curah_hujan_stats)\n",
        "print()\n",
        "print(\"Pola dan Tren:\")\n",
        "print(curah_hujan_tren)\n",
        "print()\n",
        "print(\"Anomali Data:\")\n",
        "print(curah_hujan_anomali)"
      ],
      "metadata": {
        "colab": {
          "base_uri": "https://localhost:8080/"
        },
        "id": "8UrK72PYXedT",
        "outputId": "486efcd5-112b-494e-f395-8228663e5a30"
      },
      "execution_count": 33,
      "outputs": [
        {
          "output_type": "stream",
          "name": "stdout",
          "text": [
            "Laporan EDA - Curah Hujan\n",
            "---------------------------------\n",
            "Statistik Deskriptif:\n",
            "count     36.000000\n",
            "mean     273.252778\n",
            "std      176.640231\n",
            "min       25.900000\n",
            "25%      139.425000\n",
            "50%      239.600000\n",
            "75%      365.750000\n",
            "max      747.600000\n",
            "Name: Curah Hujan, dtype: float64\n",
            "\n",
            "Pola dan Tren:\n",
            "Curah hujan memiliki variasi yang signifikan, dengan beberapa puncak tinggi dalam data.\n",
            "\n",
            "Anomali Data:\n",
            "Anomali curah hujan yang tinggi: 333.9, 362.0. Anomali curah hujan yang rendah: 42.6.\n"
          ]
        }
      ]
    }
  ]
}