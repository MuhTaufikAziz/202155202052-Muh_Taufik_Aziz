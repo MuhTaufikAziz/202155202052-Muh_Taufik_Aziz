{
  "nbformat": 4,
  "nbformat_minor": 0,
  "metadata": {
    "colab": {
      "provenance": [],
      "mount_file_id": "1q5KoFvVt-WOGGJgkf1QFMpbg2WEe45Ju",
      "authorship_tag": "ABX9TyPQO//qQRv2Ez4NQwygAGzn",
      "include_colab_link": true
    },
    "kernelspec": {
      "name": "python3",
      "display_name": "Python 3"
    },
    "language_info": {
      "name": "python"
    }
  },
  "cells": [
    {
      "cell_type": "markdown",
      "metadata": {
        "id": "view-in-github",
        "colab_type": "text"
      },
      "source": [
        "<a href=\"https://colab.research.google.com/github/MuhTaufikAziz/202155202052-Muh_Taufik_Aziz/blob/main/amazonFruit.ipynb\" target=\"_parent\"><img src=\"https://colab.research.google.com/assets/colab-badge.svg\" alt=\"Open In Colab\"/></a>"
      ]
    },
    {
      "cell_type": "code",
      "execution_count": null,
      "metadata": {
        "id": "Qg_Pev4oXQbk"
      },
      "outputs": [],
      "source": [
        "!mkdir /content/fruit"
      ]
    },
    {
      "cell_type": "code",
      "source": [],
      "metadata": {
        "id": "BI1OIEhYqItc"
      },
      "execution_count": null,
      "outputs": []
    },
    {
      "cell_type": "code",
      "source": [
        "cp /content/drive/MyDrive/DL/archive.zip /content/fruit"
      ],
      "metadata": {
        "id": "zGDbPCG_X5Ns"
      },
      "execution_count": null,
      "outputs": []
    },
    {
      "cell_type": "code",
      "source": [
        "!unzip /content/fruit/archive.zip"
      ],
      "metadata": {
        "colab": {
          "base_uri": "https://localhost:8080/"
        },
        "id": "ExAjzWKBYIzM",
        "outputId": "44671098-51eb-481b-c24e-a5a5f90ba942"
      },
      "execution_count": null,
      "outputs": [
        {
          "output_type": "stream",
          "name": "stdout",
          "text": [
            "Archive:  /content/fruit/archive.zip\n",
            "  inflating: ds_frutas_am/test/acai/download (9).jpeg  \n",
            "  inflating: ds_frutas_am/test/acai/images (16).jpeg  \n",
            "  inflating: ds_frutas_am/test/acai/images (17).jpeg  \n",
            "  inflating: ds_frutas_am/test/acai/images (2).jpeg  \n",
            "  inflating: ds_frutas_am/test/acai/images.jpeg  \n",
            "  inflating: ds_frutas_am/test/cupuacu/download (2).jpeg  \n",
            "  inflating: ds_frutas_am/test/cupuacu/download (3).jpeg  \n",
            "  inflating: ds_frutas_am/test/cupuacu/download (4).jpeg  \n",
            "  inflating: ds_frutas_am/test/cupuacu/download (5).jpeg  \n",
            "  inflating: ds_frutas_am/test/cupuacu/images (3).jpeg  \n",
            "  inflating: ds_frutas_am/test/graviola/download (1).jpeg  \n",
            "  inflating: ds_frutas_am/test/graviola/download (2).jpeg  \n",
            "  inflating: ds_frutas_am/test/graviola/download (3).jpeg  \n",
            "  inflating: ds_frutas_am/test/graviola/download (4).jpeg  \n",
            "  inflating: ds_frutas_am/test/graviola/images (4).jpeg  \n",
            "  inflating: ds_frutas_am/test/guarana/download (2).jpeg  \n",
            "  inflating: ds_frutas_am/test/guarana/download (3).jpeg  \n",
            "  inflating: ds_frutas_am/test/guarana/download (4).jpeg  \n",
            "  inflating: ds_frutas_am/test/guarana/download (5).jpeg  \n",
            "  inflating: ds_frutas_am/test/guarana/images (4).jpeg  \n",
            "  inflating: ds_frutas_am/test/pupunha/download (1).jpeg  \n",
            "  inflating: ds_frutas_am/test/pupunha/download (11).jpeg  \n",
            "  inflating: ds_frutas_am/test/pupunha/download (2).jpeg  \n",
            "  inflating: ds_frutas_am/test/pupunha/download (3).jpeg  \n",
            "  inflating: ds_frutas_am/test/pupunha/download (4).jpeg  \n",
            "  inflating: ds_frutas_am/test/tucuma/download (1).jpeg  \n",
            "  inflating: ds_frutas_am/test/tucuma/download (2).jpeg  \n",
            "  inflating: ds_frutas_am/test/tucuma/download (4).jpeg  \n",
            "  inflating: ds_frutas_am/test/tucuma/download (5).jpeg  \n",
            "  inflating: ds_frutas_am/test/tucuma/download (8).jpeg  \n",
            "  inflating: ds_frutas_am/train/acai/images (1).jpeg  \n",
            "  inflating: ds_frutas_am/train/acai/images (10).jpeg  \n",
            "  inflating: ds_frutas_am/train/acai/images (11).jpeg  \n",
            "  inflating: ds_frutas_am/train/acai/images (12).jpeg  \n",
            "  inflating: ds_frutas_am/train/acai/images (13).jpeg  \n",
            "  inflating: ds_frutas_am/train/acai/images (14).jpeg  \n",
            "  inflating: ds_frutas_am/train/acai/images (15).jpeg  \n",
            "  inflating: ds_frutas_am/train/acai/images (18).jpeg  \n",
            "  inflating: ds_frutas_am/train/acai/images (3).jpeg  \n",
            "  inflating: ds_frutas_am/train/acai/images (4).jpeg  \n",
            "  inflating: ds_frutas_am/train/acai/images (5).jpeg  \n",
            "  inflating: ds_frutas_am/train/acai/images (6).jpeg  \n",
            "  inflating: ds_frutas_am/train/acai/images (7).jpeg  \n",
            "  inflating: ds_frutas_am/train/acai/images (8).jpeg  \n",
            "  inflating: ds_frutas_am/train/acai/images (9).jpeg  \n",
            "  inflating: ds_frutas_am/train/cupuacu/download (1).jpeg  \n",
            "  inflating: ds_frutas_am/train/cupuacu/download.jpeg  \n",
            "  inflating: ds_frutas_am/train/cupuacu/images (1).jpeg  \n",
            "  inflating: ds_frutas_am/train/cupuacu/images (10).jpeg  \n",
            "  inflating: ds_frutas_am/train/cupuacu/images (11).jpeg  \n",
            "  inflating: ds_frutas_am/train/cupuacu/images (12).jpeg  \n",
            "  inflating: ds_frutas_am/train/cupuacu/images (13).jpeg  \n",
            "  inflating: ds_frutas_am/train/cupuacu/images (2).jpeg  \n",
            "  inflating: ds_frutas_am/train/cupuacu/images (4).jpeg  \n",
            "  inflating: ds_frutas_am/train/cupuacu/images (5).jpeg  \n",
            "  inflating: ds_frutas_am/train/cupuacu/images (6).jpeg  \n",
            "  inflating: ds_frutas_am/train/cupuacu/images (7).jpeg  \n",
            "  inflating: ds_frutas_am/train/cupuacu/images (8).jpeg  \n",
            "  inflating: ds_frutas_am/train/cupuacu/images (9).jpeg  \n",
            "  inflating: ds_frutas_am/train/cupuacu/images.jpeg  \n",
            "  inflating: ds_frutas_am/train/graviola/download (5).jpeg  \n",
            "  inflating: ds_frutas_am/train/graviola/download (6).jpeg  \n",
            "  inflating: ds_frutas_am/train/graviola/download (7).jpeg  \n",
            "  inflating: ds_frutas_am/train/graviola/download (8).jpeg  \n",
            "  inflating: ds_frutas_am/train/graviola/download.jpeg  \n",
            "  inflating: ds_frutas_am/train/graviola/images (1).jpeg  \n",
            "  inflating: ds_frutas_am/train/graviola/images (10).jpeg  \n",
            "  inflating: ds_frutas_am/train/graviola/images (2).jpeg  \n",
            "  inflating: ds_frutas_am/train/graviola/images (3).jpeg  \n",
            "  inflating: ds_frutas_am/train/graviola/images (5).jpeg  \n",
            "  inflating: ds_frutas_am/train/graviola/images (6).jpeg  \n",
            "  inflating: ds_frutas_am/train/graviola/images (7).jpeg  \n",
            "  inflating: ds_frutas_am/train/graviola/images (8).jpeg  \n",
            "  inflating: ds_frutas_am/train/graviola/images (9).jpeg  \n",
            "  inflating: ds_frutas_am/train/graviola/images.jpeg  \n",
            "  inflating: ds_frutas_am/train/guarana/download (1).jpeg  \n",
            "  inflating: ds_frutas_am/train/guarana/download (10).jpeg  \n",
            "  inflating: ds_frutas_am/train/guarana/download (6).jpeg  \n",
            "  inflating: ds_frutas_am/train/guarana/download (7).jpeg  \n",
            "  inflating: ds_frutas_am/train/guarana/download (8).jpeg  \n",
            "  inflating: ds_frutas_am/train/guarana/download (9).jpeg  \n",
            "  inflating: ds_frutas_am/train/guarana/download.jpeg  \n",
            "  inflating: ds_frutas_am/train/guarana/images (1).jpeg  \n",
            "  inflating: ds_frutas_am/train/guarana/images (2).jpeg  \n",
            "  inflating: ds_frutas_am/train/guarana/images (3).jpeg  \n",
            "  inflating: ds_frutas_am/train/guarana/images (5).jpeg  \n",
            "  inflating: ds_frutas_am/train/guarana/images (6).jpeg  \n",
            "  inflating: ds_frutas_am/train/guarana/images (7).jpeg  \n",
            "  inflating: ds_frutas_am/train/guarana/images (8).jpeg  \n",
            "  inflating: ds_frutas_am/train/guarana/images.jpeg  \n",
            "  inflating: ds_frutas_am/train/pupunha/download.jpeg  \n",
            "  inflating: ds_frutas_am/train/pupunha/images (1).jpeg  \n",
            "  inflating: ds_frutas_am/train/pupunha/images (10).jpeg  \n",
            "  inflating: ds_frutas_am/train/pupunha/images (11).jpeg  \n",
            "  inflating: ds_frutas_am/train/pupunha/images (12).jpeg  \n",
            "  inflating: ds_frutas_am/train/pupunha/images (13).jpeg  \n",
            "  inflating: ds_frutas_am/train/pupunha/images (2).jpeg  \n",
            "  inflating: ds_frutas_am/train/pupunha/images (3).jpeg  \n",
            "  inflating: ds_frutas_am/train/pupunha/images (4).jpeg  \n",
            "  inflating: ds_frutas_am/train/pupunha/images (5).jpeg  \n",
            "  inflating: ds_frutas_am/train/pupunha/images (6).jpeg  \n",
            "  inflating: ds_frutas_am/train/pupunha/images (7).jpeg  \n",
            "  inflating: ds_frutas_am/train/pupunha/images (8).jpeg  \n",
            "  inflating: ds_frutas_am/train/pupunha/images (9).jpeg  \n",
            "  inflating: ds_frutas_am/train/pupunha/images.jpeg  \n",
            "  inflating: ds_frutas_am/train/tucuma/download (3).jpeg  \n",
            "  inflating: ds_frutas_am/train/tucuma/download (6).jpeg  \n",
            "  inflating: ds_frutas_am/train/tucuma/download (7).jpeg  \n",
            "  inflating: ds_frutas_am/train/tucuma/download (9).jpeg  \n",
            "  inflating: ds_frutas_am/train/tucuma/download.jpeg  \n",
            "  inflating: ds_frutas_am/train/tucuma/images (1).jpeg  \n",
            "  inflating: ds_frutas_am/train/tucuma/images (2).jpeg  \n",
            "  inflating: ds_frutas_am/train/tucuma/images (3).jpeg  \n",
            "  inflating: ds_frutas_am/train/tucuma/images (4).jpeg  \n",
            "  inflating: ds_frutas_am/train/tucuma/images (5).jpeg  \n",
            "  inflating: ds_frutas_am/train/tucuma/images (6).jpeg  \n",
            "  inflating: ds_frutas_am/train/tucuma/images (7).jpeg  \n",
            "  inflating: ds_frutas_am/train/tucuma/images (8).jpeg  \n",
            "  inflating: ds_frutas_am/train/tucuma/images (9).jpeg  \n",
            "  inflating: ds_frutas_am/train/tucuma/images.jpeg  \n"
          ]
        }
      ]
    },
    {
      "cell_type": "code",
      "source": [
        "#general libs\n",
        "from tensorflow import keras\n",
        "from tensorflow.keras.preprocessing.image import ImageDataGenerator\n",
        "from tensorflow.keras.preprocessing import image\n",
        "from tensorflow.keras.models import Sequential, Model\n",
        "from tensorflow.keras.layers import GlobalAveragePooling2D, Dense, BatchNormalization, Dropout, Flatten, Conv2D, MaxPooling2D\n",
        "from tensorflow.keras.optimizers import Adam\n",
        "import numpy as np\n",
        "import random\n",
        "import matplotlib.pyplot as plt\n",
        "%matplotlib inline"
      ],
      "metadata": {
        "id": "BCD2K-cfqJyH"
      },
      "execution_count": null,
      "outputs": []
    },
    {
      "cell_type": "code",
      "source": [
        "from tensorflow.python import training\n",
        "#reading the datasets\n",
        "im_shape = (250,250)\n",
        "TRAINING_DIR = '../input/ds_frutas_am/train'\n",
        "TEST_DIR = '../input/ds_frutas_am/test'\n",
        "seed = 10\n",
        "BATCH_SIZE = 16"
      ],
      "metadata": {
        "id": "vsPtUA_YrIiv"
      },
      "execution_count": null,
      "outputs": []
    },
    {
      "cell_type": "code",
      "source": [
        "#using keras ImageGenerator and flow_from_directory\n",
        "#subdivision in test/validation\n",
        "data_generator = ImageDataGenerator(rescale=1./255, validation_split=0.2)\n",
        "val_data_generator = ImageDataGenerator(rescale=1./255, validation_split=0.2)"
      ],
      "metadata": {
        "id": "LALqDOnnrK04"
      },
      "execution_count": null,
      "outputs": []
    },
    {
      "cell_type": "code",
      "source": [
        "#if you want data augmentation, uncomment and run this cell\n",
        "data_generator = ImageDataGenerator(validation_split=0.2,rotation_range=20,width_shift_range=0.2,height_shift_range=0.2,rescale=1./255,shear_range=0.2,zoom_range=0.2,horizontal_flip=True,fill_mode='nearest')\n",
        "val_data_generator = ImageDataGenerator(rescale=1./255, validation_split=0.2)"
      ],
      "metadata": {
        "id": "7pB4FZsBrQjm"
      },
      "execution_count": null,
      "outputs": []
    },
    {
      "cell_type": "code",
      "source": [
        "epochs = 80\n",
        "\n",
        "#callback to save the best model\n",
        "callbacks_list = [keras.callbacks.ModelCheckpoint(filepath='model.h5',monitor='val_loss', save_best_only=True, verbose=1),keras.callbacks.EarlyStopping(monitor='val_loss', patience=10,verbose=1)]\n",
        "\n",
        "#training\n",
        "history = model.fit(\n",
        "        train_generator,\n",
        "        steps_per_epoch=nb_train_samples // BATCH_SIZE,\n",
        "        epochs=epochs,\n",
        "        callbacks = callbacks_list,\n",
        "        validation_data=validation_generator,\n",
        "        verbose = 1,\n",
        "        validation_steps=nb_validation_samples // BATCH_SIZE)\n"
      ],
      "metadata": {
        "id": "NfrEVbLft6Zc"
      },
      "execution_count": null,
      "outputs": []
    },
    {
      "cell_type": "code",
      "source": [
        "#training curves\n",
        "import matplotlib.pyplot as plt\n",
        "\n",
        "history_dict = history.history\n",
        "loss_values = history_dict['loss']\n",
        "val_loss_values = history_dict['val_loss']\n",
        "\n",
        "epochs_x = range(1, len(loss_values) + 1)\n",
        "plt.figure(figsize=(10,10))\n",
        "plt.subplot(2,1,1)\n",
        "plt.plot(epochs_x, loss_values, 'bo', label='Training loss')\n",
        "plt.plot(epochs_x, val_loss_values, 'b', label='Validation loss')\n",
        "plt.title('Training and validation Loss and Accuracy')\n",
        "plt.xlabel('Epochs')\n",
        "plt.ylabel('Loss')\n",
        "plt.legend()\n",
        "plt.subplot(2,1,2)\n",
        "acc_values = history_dict['accuracy']\n",
        "val_acc_values = history_dict['val_accuracy']\n",
        "plt.plot(epochs_x, acc_values, 'bo', label='Training acc')\n",
        "plt.plot(epochs_x, val_acc_values, 'b', label='Validation acc')\n",
        "#plt.title('Training and validation accuracy')\n",
        "plt.xlabel('Epochs')\n",
        "plt.ylabel('Acc')\n",
        "plt.legend()\n",
        "plt.show()"
      ],
      "metadata": {
        "id": "9jqb9OT5b9g-"
      },
      "execution_count": null,
      "outputs": []
    },
    {
      "cell_type": "code",
      "source": [
        "# Load the best saved model\n",
        "from tensorflow.keras.models import load_model\n",
        "\n",
        "model = load_model('model.h5')"
      ],
      "metadata": {
        "id": "4OinRyeWcVnx"
      },
      "execution_count": null,
      "outputs": []
    },
    {
      "cell_type": "code",
      "source": [
        "# Using the validation dataset\n",
        "score = model.evaluate_generator(validation_generator)\n",
        "print('Val loss:', score[0])\n",
        "print('Val accuracy:', score[1])"
      ],
      "metadata": {
        "id": "lxXdTE8YcYR1"
      },
      "execution_count": null,
      "outputs": []
    },
    {
      "cell_type": "code",
      "source": [
        "# Using the test dataset\n",
        "score = model.evaluate_generator(test_generator)\n",
        "print('Test loss:', score[0])\n",
        "print('Test accuracy:', score[1])"
      ],
      "metadata": {
        "id": "zMzo2sZIcaox"
      },
      "execution_count": null,
      "outputs": []
    },
    {
      "cell_type": "code",
      "source": [
        "import itertools\n",
        "\n",
        "#Plot the confusion matrix. Set Normalize = True/False\n",
        "def plot_confusion_matrix(cm, classes, normalize=True, title='Confusion matrix', cmap=plt.cm.Blues):\n",
        "  \n",
        "    plt.figure(figsize=(10,10))\n",
        "    plt.imshow(cm, interpolation='nearest', cmap=cmap)\n",
        "    plt.title(title)\n",
        "    plt.colorbar()\n",
        "    tick_marks = np.arange(len(classes))\n",
        "    plt.xticks(tick_marks, classes, rotation=45)\n",
        "    plt.yticks(tick_marks, classes)\n",
        "    if normalize:\n",
        "        cm = cm.astype('float') / cm.sum(axis=1)[:, np.newaxis]\n",
        "        cm = np.around(cm, decimals=2)\n",
        "        cm[np.isnan(cm)] = 0.0\n",
        "    thresh = cm.max() / 2.\n",
        "    for i, j in itertools.product(range(cm.shape[0]), range(cm.shape[1])):\n",
        "        plt.text(j, i, cm[i, j],\n",
        "                 horizontalalignment=\"center\",\n",
        "                 color=\"white\" if cm[i, j] > thresh else \"black\")\n",
        "    plt.tight_layout()\n",
        "    plt.ylabel('True label')\n",
        "    plt.xlabel('Predicted label')"
      ],
      "metadata": {
        "id": "9RYNYnVPcdsR"
      },
      "execution_count": null,
      "outputs": []
    },
    {
      "cell_type": "code",
      "source": [
        "# Some reports\n",
        "from sklearn.metrics import classification_report, confusion_matrix\n",
        "import numpy as np\n",
        "\n",
        "#On test dataset\n",
        "Y_pred = model.predict_generator(test_generator)\n",
        "y_pred = np.argmax(Y_pred, axis=1)\n",
        "target_names = classes\n",
        "\n",
        "#Confution Matrix\n",
        "cm = confusion_matrix(test_generator.classes, y_pred)\n",
        "plot_confusion_matrix(cm, target_names, normalize=False, title='Confusion Matrix')\n",
        "\n",
        "#Classification Report\n",
        "print('Classification Report')\n",
        "print(classification_report(test_generator.classes, y_pred, target_names=target_names))"
      ],
      "metadata": {
        "id": "t8FV7Dp2ciSe"
      },
      "execution_count": null,
      "outputs": []
    }
  ]
}